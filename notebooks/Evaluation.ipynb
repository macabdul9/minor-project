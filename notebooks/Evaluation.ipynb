{
 "cells": [
  {
   "cell_type": "markdown",
   "metadata": {},
   "source": [
    "### Dependencies "
   ]
  },
  {
   "cell_type": "code",
   "execution_count": 16,
   "metadata": {},
   "outputs": [],
   "source": [
    "import pandas as pd\n",
    "from rouge_score import rouge_scorer"
   ]
  },
  {
   "cell_type": "code",
   "execution_count": 19,
   "metadata": {},
   "outputs": [],
   "source": [
    "df_without_domain = pd.read_csv(\"eval_df_preds_without_domain.csv\")\n",
    "df_with_domain = pd.read_csv(\"eval_df_preds_with_domain.csv\")"
   ]
  },
  {
   "cell_type": "code",
   "execution_count": 20,
   "metadata": {},
   "outputs": [
    {
     "data": {
      "text/html": [
       "<div>\n",
       "<style scoped>\n",
       "    .dataframe tbody tr th:only-of-type {\n",
       "        vertical-align: middle;\n",
       "    }\n",
       "\n",
       "    .dataframe tbody tr th {\n",
       "        vertical-align: top;\n",
       "    }\n",
       "\n",
       "    .dataframe thead th {\n",
       "        text-align: right;\n",
       "    }\n",
       "</style>\n",
       "<table border=\"1\" class=\"dataframe\">\n",
       "  <thead>\n",
       "    <tr style=\"text-align: right;\">\n",
       "      <th></th>\n",
       "      <th>Unnamed: 0</th>\n",
       "      <th>target_text</th>\n",
       "      <th>input_text</th>\n",
       "      <th>prefix</th>\n",
       "      <th>predicted_titles</th>\n",
       "    </tr>\n",
       "  </thead>\n",
       "  <tbody>\n",
       "    <tr>\n",
       "      <th>0</th>\n",
       "      <td>0</td>\n",
       "      <td>User Perceptions of Smart Home IoT Privacy</td>\n",
       "      <td>Smart home Internet of Things (IoT) devices ...</td>\n",
       "      <td>summarize</td>\n",
       "      <td>Semi-structured interviews with smart home owners</td>\n",
       "    </tr>\n",
       "    <tr>\n",
       "      <th>1</th>\n",
       "      <td>1</td>\n",
       "      <td>Weak Cosmic Censorship: As Strong as Ever</td>\n",
       "      <td>Spacetime singularities that arise in gravit...</td>\n",
       "      <td>summarize</td>\n",
       "      <td>The cosmic censorship conjecture</td>\n",
       "    </tr>\n",
       "    <tr>\n",
       "      <th>2</th>\n",
       "      <td>2</td>\n",
       "      <td>Search for first-generation scalar leptoquarks...</td>\n",
       "      <td>We report on a search for pair production of...</td>\n",
       "      <td>summarize</td>\n",
       "      <td>Search for pair production of first-generation...</td>\n",
       "    </tr>\n",
       "    <tr>\n",
       "      <th>3</th>\n",
       "      <td>3</td>\n",
       "      <td>New scalar field models and their defect solut...</td>\n",
       "      <td>In this work we introduce new scalar field m...</td>\n",
       "      <td>summarize</td>\n",
       "      <td>Deformation procedure and new scalar field models</td>\n",
       "    </tr>\n",
       "    <tr>\n",
       "      <th>4</th>\n",
       "      <td>4</td>\n",
       "      <td>Curvature quintessence matched with observatio...</td>\n",
       "      <td>Quintessence issues can be achieved by takin...</td>\n",
       "      <td>summarize</td>\n",
       "      <td>Cosmological solutions for higher order curvat...</td>\n",
       "    </tr>\n",
       "  </tbody>\n",
       "</table>\n",
       "</div>"
      ],
      "text/plain": [
       "   Unnamed: 0                                        target_text  \\\n",
       "0           0         User Perceptions of Smart Home IoT Privacy   \n",
       "1           1          Weak Cosmic Censorship: As Strong as Ever   \n",
       "2           2  Search for first-generation scalar leptoquarks...   \n",
       "3           3  New scalar field models and their defect solut...   \n",
       "4           4  Curvature quintessence matched with observatio...   \n",
       "\n",
       "                                          input_text     prefix  \\\n",
       "0    Smart home Internet of Things (IoT) devices ...  summarize   \n",
       "1    Spacetime singularities that arise in gravit...  summarize   \n",
       "2    We report on a search for pair production of...  summarize   \n",
       "3    In this work we introduce new scalar field m...  summarize   \n",
       "4    Quintessence issues can be achieved by takin...  summarize   \n",
       "\n",
       "                                    predicted_titles  \n",
       "0  Semi-structured interviews with smart home owners  \n",
       "1                   The cosmic censorship conjecture  \n",
       "2  Search for pair production of first-generation...  \n",
       "3  Deformation procedure and new scalar field models  \n",
       "4  Cosmological solutions for higher order curvat...  "
      ]
     },
     "execution_count": 20,
     "metadata": {},
     "output_type": "execute_result"
    }
   ],
   "source": [
    "df_without_domain.head()"
   ]
  },
  {
   "cell_type": "code",
   "execution_count": 21,
   "metadata": {},
   "outputs": [
    {
     "data": {
      "text/html": [
       "<div>\n",
       "<style scoped>\n",
       "    .dataframe tbody tr th:only-of-type {\n",
       "        vertical-align: middle;\n",
       "    }\n",
       "\n",
       "    .dataframe tbody tr th {\n",
       "        vertical-align: top;\n",
       "    }\n",
       "\n",
       "    .dataframe thead th {\n",
       "        text-align: right;\n",
       "    }\n",
       "</style>\n",
       "<table border=\"1\" class=\"dataframe\">\n",
       "  <thead>\n",
       "    <tr style=\"text-align: right;\">\n",
       "      <th></th>\n",
       "      <th>target_text</th>\n",
       "      <th>input_text</th>\n",
       "      <th>prefix</th>\n",
       "      <th>predicted_titles</th>\n",
       "    </tr>\n",
       "  </thead>\n",
       "  <tbody>\n",
       "    <tr>\n",
       "      <th>0</th>\n",
       "      <td>User Perceptions of Smart Home IoT Privacy</td>\n",
       "      <td>Smart home Internet of Things (IoT) devices ...</td>\n",
       "      <td>summarize</td>\n",
       "      <td>Semi-structured interviews with smart home owners</td>\n",
       "    </tr>\n",
       "    <tr>\n",
       "      <th>1</th>\n",
       "      <td>Weak Cosmic Censorship: As Strong as Ever</td>\n",
       "      <td>Spacetime singularities that arise in gravit...</td>\n",
       "      <td>summarize</td>\n",
       "      <td>The weak cosmic censorship conjecture</td>\n",
       "    </tr>\n",
       "    <tr>\n",
       "      <th>2</th>\n",
       "      <td>Search for first-generation scalar leptoquarks...</td>\n",
       "      <td>We report on a search for pair production of...</td>\n",
       "      <td>summarize</td>\n",
       "      <td>Search for pair production of first-generation...</td>\n",
       "    </tr>\n",
       "    <tr>\n",
       "      <th>3</th>\n",
       "      <td>New scalar field models and their defect solut...</td>\n",
       "      <td>In this work we introduce new scalar field m...</td>\n",
       "      <td>summarize</td>\n",
       "      <td>Deformation procedure and new scalar field models</td>\n",
       "    </tr>\n",
       "    <tr>\n",
       "      <th>4</th>\n",
       "      <td>Curvature quintessence matched with observatio...</td>\n",
       "      <td>Quintessence issues can be achieved by takin...</td>\n",
       "      <td>summarize</td>\n",
       "      <td>Cosmological solutions for higher order curvat...</td>\n",
       "    </tr>\n",
       "  </tbody>\n",
       "</table>\n",
       "</div>"
      ],
      "text/plain": [
       "                                         target_text  \\\n",
       "0         User Perceptions of Smart Home IoT Privacy   \n",
       "1          Weak Cosmic Censorship: As Strong as Ever   \n",
       "2  Search for first-generation scalar leptoquarks...   \n",
       "3  New scalar field models and their defect solut...   \n",
       "4  Curvature quintessence matched with observatio...   \n",
       "\n",
       "                                          input_text     prefix  \\\n",
       "0    Smart home Internet of Things (IoT) devices ...  summarize   \n",
       "1    Spacetime singularities that arise in gravit...  summarize   \n",
       "2    We report on a search for pair production of...  summarize   \n",
       "3    In this work we introduce new scalar field m...  summarize   \n",
       "4    Quintessence issues can be achieved by takin...  summarize   \n",
       "\n",
       "                                    predicted_titles  \n",
       "0  Semi-structured interviews with smart home owners  \n",
       "1              The weak cosmic censorship conjecture  \n",
       "2  Search for pair production of first-generation...  \n",
       "3  Deformation procedure and new scalar field models  \n",
       "4  Cosmological solutions for higher order curvat...  "
      ]
     },
     "execution_count": 21,
     "metadata": {},
     "output_type": "execute_result"
    }
   ],
   "source": [
    "df_with_domain.head()"
   ]
  },
  {
   "cell_type": "code",
   "execution_count": 25,
   "metadata": {},
   "outputs": [],
   "source": [
    "references = list(df_without_domain.target_text)\n",
    "candidates_with_domain = list(df_with_domain.predicted_titles)\n",
    "candidates_without_domain = list(df_without_domain.predicted_titles)"
   ]
  },
  {
   "cell_type": "code",
   "execution_count": 27,
   "metadata": {},
   "outputs": [
    {
     "name": "stdout",
     "output_type": "stream",
     "text": [
      "User Perceptions of Smart Home IoT Privacy Semi-structured interviews with smart home owners Semi-structured interviews with smart home owners\n"
     ]
    }
   ],
   "source": [
    "for x, y, z in zip(references, candidates_with_domain, candidates_without_domain):\n",
    "    print(x, y, z)\n",
    "    break"
   ]
  },
  {
   "cell_type": "code",
   "execution_count": 24,
   "metadata": {},
   "outputs": [
    {
     "data": {
      "text/plain": [
       "['This is a test.', 'This is a test.', 'This is a test.']"
      ]
     },
     "execution_count": 24,
     "metadata": {},
     "output_type": "execute_result"
    }
   ],
   "source": [
    "references"
   ]
  },
  {
   "cell_type": "code",
   "execution_count": 29,
   "metadata": {},
   "outputs": [],
   "source": [
    "scorer = rouge_scorer.RougeScorer(['rouge1', 'rouge2', 'rouge3', 'rougeL'], use_stemmer=True)"
   ]
  },
  {
   "cell_type": "code",
   "execution_count": 34,
   "metadata": {},
   "outputs": [
    {
     "name": "stdout",
     "output_type": "stream",
     "text": [
      "<class 'rouge_score.scoring.Score'>\n",
      "{'rouge1': Score(precision=0.2857142857142857, recall=0.2857142857142857, fmeasure=0.2857142857142857), 'rouge2': Score(precision=0.16666666666666666, recall=0.16666666666666666, fmeasure=0.16666666666666666), 'rouge3': Score(precision=0.0, recall=0.0, fmeasure=0.0), 'rougeL': Score(precision=0.2857142857142857, recall=0.2857142857142857, fmeasure=0.2857142857142857)}\n"
     ]
    }
   ],
   "source": [
    "for x, y, z in zip(references, candidates_with_domain, candidates_without_domain):\n",
    "    print(scorer.score(x, y)['rouge1'].preci)\n",
    "    print(scorer.score(x, z))\n",
    "    break"
   ]
  },
  {
   "cell_type": "code",
   "execution_count": 37,
   "metadata": {},
   "outputs": [],
   "source": [
    "from PyRouge.pyrouge import Rouge"
   ]
  },
  {
   "cell_type": "code",
   "execution_count": 38,
   "metadata": {},
   "outputs": [],
   "source": [
    "r = Rouge()"
   ]
  },
  {
   "cell_type": "code",
   "execution_count": 39,
   "metadata": {},
   "outputs": [],
   "source": [
    "[precision, recall, f_score] = r.rouge_l([references], [candidates_with_domain])"
   ]
  },
  {
   "cell_type": "code",
   "execution_count": 40,
   "metadata": {},
   "outputs": [
    {
     "data": {
      "text/plain": [
       "0.001806083650190114"
      ]
     },
     "execution_count": 40,
     "metadata": {},
     "output_type": "execute_result"
    }
   ],
   "source": [
    "precision"
   ]
  },
  {
   "cell_type": "code",
   "execution_count": 41,
   "metadata": {},
   "outputs": [
    {
     "data": {
      "text/plain": [
       "0.001806083650190114"
      ]
     },
     "execution_count": 41,
     "metadata": {},
     "output_type": "execute_result"
    }
   ],
   "source": [
    "recall"
   ]
  },
  {
   "cell_type": "code",
   "execution_count": 42,
   "metadata": {},
   "outputs": [
    {
     "data": {
      "text/plain": [
       "0.001807033651574286"
      ]
     },
     "execution_count": 42,
     "metadata": {},
     "output_type": "execute_result"
    }
   ],
   "source": [
    "f_score"
   ]
  },
  {
   "cell_type": "code",
   "execution_count": null,
   "metadata": {},
   "outputs": [],
   "source": []
  }
 ],
 "metadata": {
  "kernelspec": {
   "display_name": "Python 3.7.6 64-bit ('base': conda)",
   "language": "python",
   "name": "python37664bitbaseconda1b4d65181bfe435290e55078ed6e0090"
  },
  "language_info": {
   "codemirror_mode": {
    "name": "ipython",
    "version": 3
   },
   "file_extension": ".py",
   "mimetype": "text/x-python",
   "name": "python",
   "nbconvert_exporter": "python",
   "pygments_lexer": "ipython3",
   "version": "3.7.6"
  }
 },
 "nbformat": 4,
 "nbformat_minor": 4
}
