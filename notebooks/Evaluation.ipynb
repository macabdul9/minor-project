{
 "cells": [
  {
   "cell_type": "markdown",
   "metadata": {},
   "source": [
    "### Domain Controlled "
   ]
  },
  {
   "cell_type": "code",
   "execution_count": 1,
   "metadata": {},
   "outputs": [],
   "source": [
    "import warnings\n",
    "warnings.filterwarnings('ignore')"
   ]
  },
  {
   "cell_type": "code",
   "execution_count": 2,
   "metadata": {},
   "outputs": [],
   "source": [
    "import logging\n",
    "import wandb\n",
    "import random\n",
    "import pandas as pd\n",
    "import torch\n",
    "from simpletransformers.t5 import T5Model\n",
    "# from pytorch_lightning.metrics.nlp import BLEUScore\n"
   ]
  },
  {
   "cell_type": "code",
   "execution_count": 3,
   "metadata": {},
   "outputs": [],
   "source": [
    "def load_dataset(include_domain=False):\n",
    "    \n",
    "    train_df = pd.read_csv(\"./papers_train_small.csv\")\n",
    "    eval_df = pd.read_csv(\"./papers_eval_small.csv\")\n",
    "    \n",
    "    train_df.dropna()\n",
    "    eval_df.dropna()\n",
    "  \n",
    "    # add domain tokens\n",
    "    if include_domain:\n",
    "        train_df.abstract = train_df.abstract + \" @domain: \" + train_df.categories\n",
    "        eval_df.abstract = eval_df.abstract + \" @domain: \" + eval_df.categories\n",
    "        \n",
    "    train_df = train_df[['title','abstract']]\n",
    "    eval_df = eval_df[['title','abstract']]\n",
    "    \n",
    "    train_df.columns = ['target_text', 'input_text']\n",
    "    eval_df.columns = ['target_text', 'input_text']\n",
    "    \n",
    "    \n",
    "    # task tokens\n",
    "    train_df['prefix'] = \"summarize\"\n",
    "    eval_df['prefix'] = \"summarize\"\n",
    "    \n",
    "    return train_df, eval_df\n",
    "\n",
    "    "
   ]
  },
  {
   "cell_type": "code",
   "execution_count": 4,
   "metadata": {},
   "outputs": [
    {
     "name": "stdout",
     "output_type": "stream",
     "text": [
      "CPU times: user 864 ms, sys: 101 ms, total: 965 ms\n",
      "Wall time: 2.98 s\n"
     ]
    }
   ],
   "source": [
    "%%time\n",
    "train_df, eval_df = load_dataset(include_domain=False)"
   ]
  },
  {
   "cell_type": "code",
   "execution_count": 5,
   "metadata": {},
   "outputs": [
    {
     "name": "stdout",
     "output_type": "stream",
     "text": [
      "(100213, 3) (10520, 3)\n"
     ]
    }
   ],
   "source": [
    "print(train_df.shape, eval_df.shape)"
   ]
  },
  {
   "cell_type": "code",
   "execution_count": 11,
   "metadata": {},
   "outputs": [],
   "source": [
    "model_args = {\n",
    "    \"max_seq_length\": 512,\n",
    "    \"truncation\":True,\n",
    "    \"longest_first\":True,\n",
    "    \"train_batch_size\": 8,\n",
    "    \"eval_batch_size\": 8,\n",
    "    \"num_train_epochs\": 5,\n",
    "    \"evaluate_during_training\": False,\n",
    "    \"evaluate_during_training_steps\": 1000,\n",
    "    \"evaluate_during_training_verbose\": True,\n",
    "    \n",
    "    \"use_multiprocessing\": False,\n",
    "    \"fp16\": False,\n",
    "\n",
    "    \"save_steps\": -1,\n",
    "    \"save_eval_checkpoints\": True,\n",
    "    \"save_model_every_epoch\": True,\n",
    "\n",
    "    \"reprocess_input_data\": True,\n",
    "    \"overwrite_output_dir\": True,\n",
    "\n",
    "    \"wandb_project\": \"title-generation\",\n",
    "    \n",
    "}\n"
   ]
  },
  {
   "cell_type": "code",
   "execution_count": 8,
   "metadata": {},
   "outputs": [],
   "source": [
    "# Create T5 Model\n",
    "model = T5Model(\"./data/results/outputs/\", args=model_args, use_cuda=True)"
   ]
  },
  {
   "cell_type": "code",
   "execution_count": null,
   "metadata": {},
   "outputs": [],
   "source": [
    "# Evaluate T5 Model on new task\n",
    "results = model.eval_model(eval_df)"
   ]
  },
  {
   "cell_type": "code",
   "execution_count": null,
   "metadata": {},
   "outputs": [],
   "source": [
    "print(results)"
   ]
  },
  {
   "cell_type": "code",
   "execution_count": 9,
   "metadata": {},
   "outputs": [
    {
     "name": "stderr",
     "output_type": "stream",
     "text": [
      "Generating outputs:   0%|          | 0/1 [00:00<?, ?it/s]Truncation was not explicitely activated but `max_length` is provided a specific value, please use `truncation=True` to explicitely truncate examples to max length. Defaulting to 'longest_first' truncation strategy. If you encode pairs of sequences (GLUE-style) with the tokenizer you can select this strategy more precisely by providing a specific strategy to `truncation`.\n",
      "Generating outputs: 100%|██████████| 1/1 [00:04<00:00,  4.62s/it]\n",
      "Decoding outputs: 100%|██████████| 1/1 [00:01<00:00,  1.06s/it]\n"
     ]
    },
    {
     "name": "stdout",
     "output_type": "stream",
     "text": [
      "Actual Title: Hydrodynamics and beyond in the strongly coupled N=4 plasma\n",
      "Predicted Title: ['Hydrodynamic and higher quasinormal modes in AdS black hole background']\n",
      "Actual Abstract: ['summarize:   We continue our investigations on the relation between hydrodynamic and\\nhigher quasinormal modes in the AdS black hole background started in\\narXiv:0710.4458 [hep-th]. As is well known, the quasinormal modes can be\\ninterpreted as the poles of the retarded Green functions of the dual N=4 gauge\\ntheory at finite temperature. The response to a generic perturbation is\\ndetermined by the residues of the poles. We compute these residues numerically\\nfor energy-momentum and R-charge correlators. We find that the diffusion modes\\nbehave in a similar way: at small wavelengths the residues go over into a form\\nof a damped oscillation and therefore these modes decouple at short distances.\\nThe sound mode behaves differently: its residue does not decay and at short\\nwavelengths this mode behaves as the higher quasinormal modes. Applications of\\nour findings include the definition of hydrodynamic length and time scales. We\\nalso show that the quasinormal modes, including the hydrodynamic diffusion\\nmodes, obey causality.\\n']\n"
     ]
    }
   ],
   "source": [
    "random_num = 351\n",
    "actual_title = eval_df.iloc[random_num]['target_text']\n",
    "actual_abstract = [\"summarize: \"+eval_df.iloc[random_num]['input_text']]\n",
    "predicted_title = model.predict(actual_abstract)\n",
    "\n",
    "print(f'Actual Title: {actual_title}')\n",
    "print(f'Predicted Title: {predicted_title}')\n",
    "print(f'Actual Abstract: {actual_abstract}')\n"
   ]
  },
  {
   "cell_type": "code",
   "execution_count": 10,
   "metadata": {},
   "outputs": [
    {
     "name": "stderr",
     "output_type": "stream",
     "text": [
      "Generating outputs:   0%|          | 0/1 [00:00<?, ?it/s]Truncation was not explicitely activated but `max_length` is provided a specific value, please use `truncation=True` to explicitely truncate examples to max length. Defaulting to 'longest_first' truncation strategy. If you encode pairs of sequences (GLUE-style) with the tokenizer you can select this strategy more precisely by providing a specific strategy to `truncation`.\n",
      "Generating outputs: 100%|██████████| 1/1 [00:02<00:00,  2.09s/it]\n",
      "Decoding outputs: 100%|██████████| 1/1 [00:00<00:00,  1.59it/s]"
     ]
    },
    {
     "name": "stdout",
     "output_type": "stream",
     "text": [
      "Actual Title: Sources of Pressure in Titan's Plasma Environment\n",
      "Predicted Title: ['Magnetic pressure and oscillation phase of the plasmasheet in the near-Titan space']\n",
      "Actual Abstract: [\"summarize:   In order to analyze varying plasma conditions upstream of Titan, we have\\ncombined a physical model of Saturn's plasmadisk with a geometrical model of\\nthe oscillating current sheet. During modeled oscillation phases where Titan is\\nfurthest from the current sheet, the main sources of plasma pressure in the\\nnear-Titan space are the magnetic pressure and, for disturbed conditions, the\\nhot plasma pressure. When Titan is at the center of the sheet, the main source\\nis the dynamic pressure associated with Saturn's cold, subcorotating plasma.\\nTotal pressure at Titan (dynamic plus thermal plus magnetic) typically\\nincreases by a factor of five as the current sheet center is approached. The\\npredicted incident plasma flow direction deviates from the orbital plane of\\nTitan by < 10 deg. These results suggest a correlation between the location of\\nmagnetic pressure maxima and the oscillation phase of the plasmasheet.\\n\"]\n"
     ]
    },
    {
     "name": "stderr",
     "output_type": "stream",
     "text": [
      "\n"
     ]
    }
   ],
   "source": [
    "random_num = 478\n",
    "actual_title = eval_df.iloc[random_num]['target_text']\n",
    "actual_abstract = [\"summarize: \"+eval_df.iloc[random_num]['input_text']]\n",
    "predicted_title = model.predict(actual_abstract)\n",
    "\n",
    "print(f'Actual Title: {actual_title}')\n",
    "print(f'Predicted Title: {predicted_title}')\n",
    "print(f'Actual Abstract: {actual_abstract}')"
   ]
  },
  {
   "cell_type": "code",
   "execution_count": 12,
   "metadata": {},
   "outputs": [
    {
     "name": "stderr",
     "output_type": "stream",
     "text": [
      "Generating outputs:   0%|          | 0/1 [00:00<?, ?it/s]Truncation was not explicitely activated but `max_length` is provided a specific value, please use `truncation=True` to explicitely truncate examples to max length. Defaulting to 'longest_first' truncation strategy. If you encode pairs of sequences (GLUE-style) with the tokenizer you can select this strategy more precisely by providing a specific strategy to `truncation`.\n",
      "Generating outputs: 100%|██████████| 1/1 [00:00<00:00,  6.67it/s]\n",
      "Decoding outputs: 100%|██████████| 1/1 [00:00<00:00,  3.89it/s]"
     ]
    },
    {
     "name": "stdout",
     "output_type": "stream",
     "text": [
      "Actual Title: D=5 M-theory radion supermultiplet dynamics\n",
      "Predicted Title: ['Radion Supermultiplet and the Cosmological Model']\n",
      "Actual Abstract: ['summarize:   We show how the bosonic sector of the radion supermultiplet plus d=4, N=1\\nsupergravity emerge from a consistent braneworld Kaluza-Klein reduction of D=5\\nM--theory. The radion and its associated pseudoscalar form an SL(2,R)/U(1)\\nnonlinear sigma model. This braneworld system admits its own brane solution in\\nthe form of a 2-supercharge supersymmetric string. Requiring this to be free of\\nsingularities leads to an SL(2,Z) identification of the sigma model target\\nspace. The resulting radion mode has a minimum length; we suggest that this\\ncould be used to avoid the occurrence of singularities in brane-brane\\ncollisions. We discuss possible supersymmetric potentials for the radion\\nsupermultiplet and their relation to cosmological models such as the cyclic\\nuniverse or hybrid inflation.\\n']\n"
     ]
    },
    {
     "name": "stderr",
     "output_type": "stream",
     "text": [
      "\n"
     ]
    }
   ],
   "source": [
    "random_num = 187\n",
    "actual_title = eval_df.iloc[random_num]['target_text']\n",
    "actual_abstract = [\"summarize: \"+eval_df.iloc[random_num]['input_text']]\n",
    "predicted_title = model.predict(actual_abstract)\n",
    "\n",
    "print(f'Actual Title: {actual_title}')\n",
    "print(f'Predicted Title: {predicted_title}')\n",
    "print(f'Actual Abstract: {actual_abstract}')\n"
   ]
  },
  {
   "cell_type": "code",
   "execution_count": null,
   "metadata": {},
   "outputs": [],
   "source": []
  },
  {
   "cell_type": "code",
   "execution_count": null,
   "metadata": {},
   "outputs": [],
   "source": []
  },
  {
   "cell_type": "code",
   "execution_count": null,
   "metadata": {},
   "outputs": [],
   "source": []
  }
 ],
 "metadata": {
  "kernelspec": {
   "display_name": "Python 3.7.6 64-bit ('base': conda)",
   "language": "python",
   "name": "python37664bitbaseconda1b4d65181bfe435290e55078ed6e0090"
  },
  "language_info": {
   "codemirror_mode": {
    "name": "ipython",
    "version": 3
   },
   "file_extension": ".py",
   "mimetype": "text/x-python",
   "name": "python",
   "nbconvert_exporter": "python",
   "pygments_lexer": "ipython3",
   "version": "3.7.6"
  }
 },
 "nbformat": 4,
 "nbformat_minor": 4
}
